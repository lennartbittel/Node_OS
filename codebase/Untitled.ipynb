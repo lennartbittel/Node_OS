{
 "cells": [
  {
   "cell_type": "code",
   "execution_count": 308,
   "metadata": {
    "collapsed": true
   },
   "outputs": [],
   "source": [
    "from numpy import *\n",
    "from scipy import *\n",
    "from scipy.linalg import norm,eigvals"
   ]
  },
  {
   "cell_type": "code",
   "execution_count": 380,
   "metadata": {
    "collapsed": true
   },
   "outputs": [],
   "source": [
    "n=6;\n",
    "psi=ones(2**n)\n",
    "cph=diag([1,1,1,-1 ])\n",
    "phgate1=lambda x: kron(eye(2**x),kron(cph,eye(2**(n-2-x))))\n",
    "def phgate(x,y):\n",
    "    return eye(2**n)-2*diag([(i&(2**x))*(i&2**y)!=0 for i in range(2**n)])\n",
    "def give_ket(psi):\n",
    "    s=\"\"\n",
    "    for i,a in enumerate(psi):\n",
    "        s+=str(a)\n",
    "        s+=\"|\"+str(i)+\"> + \"\n",
    "    return s"
   ]
  },
  {
   "cell_type": "code",
   "execution_count": 381,
   "metadata": {},
   "outputs": [
    {
     "name": "stdout",
     "output_type": "stream",
     "text": [
      "[[ 1.  0.  0. ...,  0.  0.  0.]\n",
      " [ 0.  1.  0. ...,  0.  0.  0.]\n",
      " [ 0.  0.  1. ...,  0.  0.  0.]\n",
      " ..., \n",
      " [ 0.  0.  0. ..., -1. -0. -0.]\n",
      " [ 0.  0.  0. ..., -0. -1. -0.]\n",
      " [ 0.  0.  0. ..., -0. -0. -1.]]\n",
      "[[ 1.  0.  0. ...,  0.  0.  0.]\n",
      " [ 0.  1.  0. ...,  0.  0.  0.]\n",
      " [ 0.  0.  1. ...,  0.  0.  0.]\n",
      " ..., \n",
      " [ 0.  0.  0. ...,  1.  0.  0.]\n",
      " [ 0.  0.  0. ...,  0. -1.  0.]\n",
      " [ 0.  0.  0. ...,  0.  0. -1.]]\n"
     ]
    }
   ],
   "source": [
    "print(phgate1(0))\n",
    "print(phgate(2,1))"
   ]
  },
  {
   "cell_type": "code",
   "execution_count": 382,
   "metadata": {},
   "outputs": [
    {
     "name": "stdout",
     "output_type": "stream",
     "text": [
      "[(), (1,), (2,), (3,), (6,), (1, 2), (1, 3), (1, 6), (2, 3), (2, 6), (3, 6), (1, 2, 3), (1, 2, 6), (1, 3, 6), (2, 3, 6), (1, 2, 3, 6)]\n"
     ]
    }
   ],
   "source": [
    "import itertools\n",
    "items = [1, 2, 3,6]\n",
    "powerset = lambda items: [x for length in range(len(items)+1) for x in itertools.combinations(items, length)]\n",
    "print(powerset(items))"
   ]
  },
  {
   "cell_type": "code",
   "execution_count": 383,
   "metadata": {
    "collapsed": true
   },
   "outputs": [],
   "source": [
    "def trace_out(psi,param):\n",
    "    psi/=norm(psi)\n",
    "    psi_c=[[] for i in range(2**len(param))]\n",
    "    for lauf, a in enumerate(psi):\n",
    "        #print(a,[(lauf&(2**i)) for k,i in enumerate(param) ],lauf,lauf&3,int(sum((lauf&(2**i))/2**(i)*2**k for k,i in enumerate(param) )))\n",
    "        psi_c[int(sum((lauf&(2**i))/2**(i)*2**k for k,i in enumerate(param) ))]+=[a]\n",
    "    #return psi_c\n",
    "    psi_new= sum(outer(conjugate(psi_ck),psi_ck)for psi_ck in psi_c)\n",
    "    return round(real(sum(- m*log2(m) if m>1e-4 else 0 for m in eigvals(psi_new))))"
   ]
  },
  {
   "cell_type": "code",
   "execution_count": 396,
   "metadata": {},
   "outputs": [
    {
     "name": "stdout",
     "output_type": "stream",
     "text": [
      "[ 1.  1.  1. -1.  1. -1.  1.  1.  1. -1.  1.  1.  1.  1.  1. -1.  1. -1.\n",
      "  1.  1.  1.  1.  1. -1.  1.  1.  1. -1.  1. -1.  1.  1.  1. -1.  1.  1.\n",
      "  1.  1.  1. -1.  1.  1.  1. -1.  1. -1.  1.  1.  1.  1.  1. -1.  1. -1.\n",
      "  1.  1.  1. -1.  1.  1.  1.  1.  1. -1.]\n"
     ]
    },
    {
     "data": {
      "text/plain": [
       "[[(), -0.0, -0.0],\n",
       " [(0,), 1.0, 1.0],\n",
       " [(1,), 1.0, 1.0],\n",
       " [(2,), 1.0, 1.0],\n",
       " [(3,), 1.0, 1.0],\n",
       " [(4,), 1.0, 1.0],\n",
       " [(5,), 1.0, 1.0],\n",
       " [(0, 1), 1.0, 1.0],\n",
       " [(0, 2), 2.0, 1.0],\n",
       " [(0, 3), 2.0, 1.0],\n",
       " [(0, 4), 2.0, 1.0],\n",
       " [(0, 5), 2.0, 1.0],\n",
       " [(1, 2), 2.0, 1.0],\n",
       " [(1, 3), 2.0, 1.0],\n",
       " [(1, 4), 2.0, 1.0],\n",
       " [(1, 5), 2.0, 1.0],\n",
       " [(2, 3), 2.0, 1.0],\n",
       " [(2, 4), 2.0, 1.0],\n",
       " [(2, 5), 2.0, 1.0],\n",
       " [(3, 4), 2.0, 1.0],\n",
       " [(3, 5), 2.0, 1.0],\n",
       " [(4, 5), 1.0, 1.0],\n",
       " [(0, 1, 2), 1.0, 1.0],\n",
       " [(0, 1, 3), 2.0, 1.0],\n",
       " [(0, 1, 4), 2.0, 1.0],\n",
       " [(0, 1, 5), 2.0, 1.0],\n",
       " [(0, 2, 3), 2.0, 1.0],\n",
       " [(0, 2, 4), 3.0, 1.0],\n",
       " [(0, 2, 5), 3.0, 1.0],\n",
       " [(0, 3, 4), 3.0, 1.0],\n",
       " [(0, 3, 5), 3.0, 1.0],\n",
       " [(0, 4, 5), 2.0, 1.0],\n",
       " [(1, 2, 3), 2.0, 1.0],\n",
       " [(1, 2, 4), 3.0, 1.0],\n",
       " [(1, 2, 5), 3.0, 1.0],\n",
       " [(1, 3, 4), 3.0, 1.0],\n",
       " [(1, 3, 5), 3.0, 1.0],\n",
       " [(1, 4, 5), 2.0, 1.0],\n",
       " [(2, 3, 4), 2.0, 1.0],\n",
       " [(2, 3, 5), 2.0, 1.0],\n",
       " [(2, 4, 5), 2.0, 1.0],\n",
       " [(3, 4, 5), 1.0, 1.0],\n",
       " [(0, 1, 2, 3), 1.0, 1.0],\n",
       " [(0, 1, 2, 4), 2.0, 1.0],\n",
       " [(0, 1, 2, 5), 2.0, 1.0],\n",
       " [(0, 1, 3, 4), 2.0, 1.0],\n",
       " [(0, 1, 3, 5), 2.0, 1.0],\n",
       " [(0, 1, 4, 5), 2.0, 1.0],\n",
       " [(0, 2, 3, 4), 2.0, 1.0],\n",
       " [(0, 2, 3, 5), 2.0, 1.0],\n",
       " [(0, 2, 4, 5), 2.0, 1.0],\n",
       " [(0, 3, 4, 5), 2.0, 1.0],\n",
       " [(1, 2, 3, 4), 2.0, 1.0],\n",
       " [(1, 2, 3, 5), 2.0, 1.0],\n",
       " [(1, 2, 4, 5), 2.0, 1.0],\n",
       " [(1, 3, 4, 5), 2.0, 1.0],\n",
       " [(2, 3, 4, 5), 1.0, 1.0],\n",
       " [(0, 1, 2, 3, 4), 1.0, 1.0],\n",
       " [(0, 1, 2, 3, 5), 1.0, 1.0],\n",
       " [(0, 1, 2, 4, 5), 1.0, 1.0],\n",
       " [(0, 1, 3, 4, 5), 1.0, 1.0],\n",
       " [(0, 2, 3, 4, 5), 1.0, 1.0],\n",
       " [(1, 2, 3, 4, 5), 1.0, 1.0],\n",
       " [(0, 1, 2, 3, 4, 5), 0.0, 0.0]]"
      ]
     },
     "execution_count": 396,
     "metadata": {},
     "output_type": "execute_result"
    }
   ],
   "source": [
    "#print(max([trace_out(dot(phgate(0),dot(phgate(2),psi)),[i])for i in range(n)]))\n",
    "#g=dot(phgate(0,1),dot(phgate(1,2),dot(phgate(3,4),dot(phgate(1,3),dot(phgate(1,4),dot(phgate(5,4),dot(phgate(1,4),psi)))))))\n",
    "def gs(psi,tup):\n",
    "    for i,j in tup:\n",
    "        psi=dot(phgate(i,j),psi)\n",
    "    return psi\n",
    "def ghz(psi):\n",
    "    for i in range(1,n):\n",
    "        psi=dot(phgate(0,i),psi)\n",
    "    return psi\n",
    "gh=ghz(psi)\n",
    "g=gs(psi,[[0,1],[2,3],[4,5],[3,4],[1,2]])\n",
    "print(gh)\n",
    "[[m,trace_out(g,m),trace_out(gh,m)]for m in powerset(list(range(n)))]"
   ]
  },
  {
   "cell_type": "code",
   "execution_count": 274,
   "metadata": {},
   "outputs": [
    {
     "ename": "TypeError",
     "evalue": "object of type 'int' has no len()",
     "output_type": "error",
     "traceback": [
      "\u001b[0;31m---------------------------------------------------------------------------\u001b[0m",
      "\u001b[0;31mTypeError\u001b[0m                                 Traceback (most recent call last)",
      "\u001b[0;32m<ipython-input-274-ff881101ea5a>\u001b[0m in \u001b[0;36m<module>\u001b[0;34m()\u001b[0m\n\u001b[0;32m----> 1\u001b[0;31m \u001b[0;36m2\u001b[0m\u001b[0;34m**\u001b[0m\u001b[0mmax\u001b[0m\u001b[0;34m(\u001b[0m\u001b[0;34m[\u001b[0m\u001b[0mreal\u001b[0m\u001b[0;34m(\u001b[0m\u001b[0mtrace_out\u001b[0m\u001b[0;34m(\u001b[0m\u001b[0mdot\u001b[0m\u001b[0;34m(\u001b[0m\u001b[0mphgate\u001b[0m\u001b[0;34m(\u001b[0m\u001b[0;36m0\u001b[0m\u001b[0;34m)\u001b[0m\u001b[0;34m,\u001b[0m\u001b[0mdot\u001b[0m\u001b[0;34m(\u001b[0m\u001b[0mphgate\u001b[0m\u001b[0;34m(\u001b[0m\u001b[0;36m2\u001b[0m\u001b[0;34m)\u001b[0m\u001b[0;34m,\u001b[0m\u001b[0mpsi\u001b[0m\u001b[0;34m)\u001b[0m\u001b[0;34m)\u001b[0m\u001b[0;34m,\u001b[0m\u001b[0mi\u001b[0m\u001b[0;34m)\u001b[0m\u001b[0;34m)\u001b[0m\u001b[0;32mfor\u001b[0m \u001b[0mi\u001b[0m \u001b[0;32min\u001b[0m \u001b[0mrange\u001b[0m\u001b[0;34m(\u001b[0m\u001b[0mn\u001b[0m\u001b[0;34m)\u001b[0m\u001b[0;34m]\u001b[0m\u001b[0;34m)\u001b[0m\u001b[0;34m\u001b[0m\u001b[0m\n\u001b[0m",
      "\u001b[0;32m<ipython-input-274-ff881101ea5a>\u001b[0m in \u001b[0;36m<listcomp>\u001b[0;34m(.0)\u001b[0m\n\u001b[0;32m----> 1\u001b[0;31m \u001b[0;36m2\u001b[0m\u001b[0;34m**\u001b[0m\u001b[0mmax\u001b[0m\u001b[0;34m(\u001b[0m\u001b[0;34m[\u001b[0m\u001b[0mreal\u001b[0m\u001b[0;34m(\u001b[0m\u001b[0mtrace_out\u001b[0m\u001b[0;34m(\u001b[0m\u001b[0mdot\u001b[0m\u001b[0;34m(\u001b[0m\u001b[0mphgate\u001b[0m\u001b[0;34m(\u001b[0m\u001b[0;36m0\u001b[0m\u001b[0;34m)\u001b[0m\u001b[0;34m,\u001b[0m\u001b[0mdot\u001b[0m\u001b[0;34m(\u001b[0m\u001b[0mphgate\u001b[0m\u001b[0;34m(\u001b[0m\u001b[0;36m2\u001b[0m\u001b[0;34m)\u001b[0m\u001b[0;34m,\u001b[0m\u001b[0mpsi\u001b[0m\u001b[0;34m)\u001b[0m\u001b[0;34m)\u001b[0m\u001b[0;34m,\u001b[0m\u001b[0mi\u001b[0m\u001b[0;34m)\u001b[0m\u001b[0;34m)\u001b[0m\u001b[0;32mfor\u001b[0m \u001b[0mi\u001b[0m \u001b[0;32min\u001b[0m \u001b[0mrange\u001b[0m\u001b[0;34m(\u001b[0m\u001b[0mn\u001b[0m\u001b[0;34m)\u001b[0m\u001b[0;34m]\u001b[0m\u001b[0;34m)\u001b[0m\u001b[0;34m\u001b[0m\u001b[0m\n\u001b[0m",
      "\u001b[0;32m<ipython-input-270-340e89627822>\u001b[0m in \u001b[0;36mtrace_out\u001b[0;34m(psi, param)\u001b[0m\n\u001b[1;32m      1\u001b[0m \u001b[0;32mdef\u001b[0m \u001b[0mtrace_out\u001b[0m\u001b[0;34m(\u001b[0m\u001b[0mpsi\u001b[0m\u001b[0;34m,\u001b[0m\u001b[0mparam\u001b[0m\u001b[0;34m)\u001b[0m\u001b[0;34m:\u001b[0m\u001b[0;34m\u001b[0m\u001b[0m\n\u001b[1;32m      2\u001b[0m     \u001b[0mpsi\u001b[0m\u001b[0;34m/=\u001b[0m\u001b[0mnorm\u001b[0m\u001b[0;34m(\u001b[0m\u001b[0mpsi\u001b[0m\u001b[0;34m)\u001b[0m\u001b[0;34m\u001b[0m\u001b[0m\n\u001b[0;32m----> 3\u001b[0;31m     \u001b[0mpsi_c\u001b[0m\u001b[0;34m=\u001b[0m\u001b[0;34m[\u001b[0m\u001b[0;34m[\u001b[0m\u001b[0;34m]\u001b[0m \u001b[0;32mfor\u001b[0m \u001b[0mi\u001b[0m \u001b[0;32min\u001b[0m \u001b[0mrange\u001b[0m\u001b[0;34m(\u001b[0m\u001b[0;36m2\u001b[0m\u001b[0;34m**\u001b[0m\u001b[0mlen\u001b[0m\u001b[0;34m(\u001b[0m\u001b[0mparam\u001b[0m\u001b[0;34m)\u001b[0m\u001b[0;34m)\u001b[0m\u001b[0;34m]\u001b[0m\u001b[0;34m\u001b[0m\u001b[0m\n\u001b[0m\u001b[1;32m      4\u001b[0m     \u001b[0;32mfor\u001b[0m \u001b[0mlauf\u001b[0m\u001b[0;34m,\u001b[0m \u001b[0ma\u001b[0m \u001b[0;32min\u001b[0m \u001b[0menumerate\u001b[0m\u001b[0;34m(\u001b[0m\u001b[0mpsi\u001b[0m\u001b[0;34m)\u001b[0m\u001b[0;34m:\u001b[0m\u001b[0;34m\u001b[0m\u001b[0m\n\u001b[1;32m      5\u001b[0m         \u001b[0;31m#print(a,[(lauf&(2**i)) for k,i in enumerate(param) ],lauf,lauf&3,int(sum((lauf&(2**i))/2**(i)*2**k for k,i in enumerate(param) )))\u001b[0m\u001b[0;34m\u001b[0m\u001b[0;34m\u001b[0m\u001b[0m\n",
      "\u001b[0;31mTypeError\u001b[0m: object of type 'int' has no len()"
     ]
    }
   ],
   "source": [
    "[real(trace_out(dot(phgate(0),dot(phgate(2),psi)),i))for i in range(n)])"
   ]
  },
  {
   "cell_type": "code",
   "execution_count": 130,
   "metadata": {},
   "outputs": [
    {
     "data": {
      "text/plain": [
       "([4, 5, 6, 7], [0, 1, 2, 3])"
      ]
     },
     "execution_count": 130,
     "metadata": {},
     "output_type": "execute_result"
    }
   ],
   "source": [
    "trace_out(list(range(8)),2)"
   ]
  },
  {
   "cell_type": "raw",
   "metadata": {},
   "source": []
  },
  {
   "cell_type": "code",
   "execution_count": 99,
   "metadata": {},
   "outputs": [
    {
     "name": "stdout",
     "output_type": "stream",
     "text": [
      "[ 0.70710678  0.70710678  0.70710678]\n"
     ]
    }
   ],
   "source": [
    "alphas=(-1)**(floor(2*rand(n)))/sqrt(2)\n",
    "betas=(-1)**(floor(2*rand(n)))/sqrt(2)\n",
    "print(alphas)\n",
    "def gen_state(a,b):\n",
    "    z=[1]\n",
    "    for ai,bi in zip(a,b):\n",
    "        z=kron(z,[ai,bi])\n",
    "    return z"
   ]
  },
  {
   "cell_type": "code",
   "execution_count": 100,
   "metadata": {},
   "outputs": [
    {
     "data": {
      "text/plain": [
       "array([ 0.35355339,  0.35355339, -0.35355339, -0.35355339, -0.35355339,\n",
       "       -0.35355339,  0.35355339,  0.35355339])"
      ]
     },
     "execution_count": 100,
     "metadata": {},
     "output_type": "execute_result"
    }
   ],
   "source": [
    "gen_state(alphas,betas)"
   ]
  },
  {
   "cell_type": "code",
   "execution_count": null,
   "metadata": {
    "collapsed": true
   },
   "outputs": [],
   "source": []
  },
  {
   "cell_type": "code",
   "execution_count": null,
   "metadata": {
    "collapsed": true
   },
   "outputs": [],
   "source": []
  }
 ],
 "metadata": {
  "kernelspec": {
   "display_name": "Python 3",
   "language": "python",
   "name": "python3"
  },
  "language_info": {
   "codemirror_mode": {
    "name": "ipython",
    "version": 3
   },
   "file_extension": ".py",
   "mimetype": "text/x-python",
   "name": "python",
   "nbconvert_exporter": "python",
   "pygments_lexer": "ipython3",
   "version": "3.6.2"
  }
 },
 "nbformat": 4,
 "nbformat_minor": 2
}
