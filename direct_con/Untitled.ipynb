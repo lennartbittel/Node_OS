{
 "cells": [
  {
   "cell_type": "code",
   "execution_count": 1,
   "metadata": {},
   "outputs": [
    {
     "name": "stdout",
     "output_type": "stream",
     "text": [
      "0\n",
      "[[ 0.  1.  0.]\n",
      " [ 1.  1.  0.]\n",
      " [ 0.  1.  1.]\n",
      " [ 1.  1.  0.]\n",
      " [ 1.  0.  1.]\n",
      " [ 0.  0.  0.]\n",
      " [ 0.  0.  1.]]\n",
      "[[ 2.48635141  0.          0.        ]\n",
      " [ 0.          1.55126421  0.        ]\n",
      " [ 0.          0.          1.18812289]\n",
      " [ 0.          0.          0.        ]\n",
      " [ 0.          0.          0.        ]\n",
      " [ 0.          0.          0.        ]\n",
      " [ 0.          0.          0.        ]]\n",
      "[[-0.28751591  1.04472908 -1.30421196]\n",
      " [ 1.69317807  1.76874068  0.85757092]\n",
      " [ 0.22310353  0.94015011  1.04054098]\n",
      " [-0.27294597  0.69887987 -0.26696859]\n",
      " [ 1.39361579  1.73649152  1.37143537]\n",
      " [ 0.          0.          0.        ]\n",
      " [ 0.78213729  0.54532462  0.40609492]]\n",
      "[[ 1.  1.  0.]\n",
      " [ 1.  0.  1.]\n",
      " [ 0.  0.  1.]\n",
      " [ 0.  0.  0.]\n",
      " [ 0.  0.  1.]\n",
      " [ 1.  1.  0.]\n",
      " [ 0.  0.  1.]] 828\n",
      "0.013879537582397461\n"
     ]
    }
   ],
   "source": [
    "from scipy import *\n",
    "from numpy.linalg import svd\n",
    "from numpy import *\n",
    "from time import *\n",
    "res=0\n",
    "for i in range(1):\n",
    "    if i%50==0: print(i,)\n",
    "    while True:\n",
    "        A=floor(2*rand(7,3))\n",
    "        if dot(A[0],A[1])%2==1 and dot(A[1],A[2])%2==1 and dot(A[0],A[3])%2==1:\n",
    "            break\n",
    "    print(A)\n",
    "    u,S,v=svd(A,full_matrices=True)\n",
    "    Z=zeros((7,3))\n",
    "    Z[0,0],Z[1,1],Z[2,2]=S\n",
    "    print(Z)\n",
    "    print(dot(u,dot(Z,v)-A))\n",
    "    a=time()\n",
    "    for i in range(100000):\n",
    "        B=floor(2*rand(7,3))\n",
    "        if sum(abs(dot(transpose(A),B)%2-eye(3)))==0:\n",
    "            #print(abs(dot(transpose(A),B)%2))\n",
    "            print(B,i)\n",
    "            break\n",
    "    \n",
    "    res+=time()-a\n",
    "print(res/1)"
   ]
  },
  {
   "cell_type": "code",
   "execution_count": 28,
   "metadata": {},
   "outputs": [
    {
     "name": "stdout",
     "output_type": "stream",
     "text": [
      "0.06529388809204102\n"
     ]
    }
   ],
   "source": [
    "print(res/500)"
   ]
  },
  {
   "cell_type": "code",
   "execution_count": null,
   "metadata": {
    "collapsed": true
   },
   "outputs": [],
   "source": []
  }
 ],
 "metadata": {
  "kernelspec": {
   "display_name": "Python 3",
   "language": "python",
   "name": "python3"
  },
  "language_info": {
   "codemirror_mode": {
    "name": "ipython",
    "version": 3
   },
   "file_extension": ".py",
   "mimetype": "text/x-python",
   "name": "python",
   "nbconvert_exporter": "python",
   "pygments_lexer": "ipython3",
   "version": "3.6.2"
  }
 },
 "nbformat": 4,
 "nbformat_minor": 2
}
